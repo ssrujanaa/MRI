{
 "cells": [
  {
   "cell_type": "code",
   "execution_count": 16,
   "metadata": {},
   "outputs": [
    {
     "name": "stdout",
     "output_type": "stream",
     "text": [
      "[(0, 235), (1, 50)]\n",
      "199 86\n",
      "0    164\n",
      "1     35\n",
      "Name: Label, dtype: int64 0    71\n",
      "1    15\n",
      "Name: Label, dtype: int64\n"
     ]
    }
   ],
   "source": [
    "import pandas as pd  \n",
    "from collections import Counter\n",
    "cancer = pd.read_csv(\"MRI_Sree.csv\")\n",
    "cancer['Label'] = cancer['Label'].map({'GBM': 0, 'Recurrent GBM': 1})\n",
    "X, y = cancer.drop(['Patient_ID_x','file'], axis=1), cancer['Label']\n",
    "print(sorted(Counter(y).items()))\n",
    "\n",
    "from sklearn.model_selection import train_test_split\n",
    "X_train, X_test, y_train, y_test = train_test_split(X, y, test_size = 0.3, random_state = 20,stratify = y)\n",
    "X_test = X_test.drop(['Label'],axis=1)\n",
    "X_train = X_train.drop(['Label'],axis=1)\n",
    "print(len(X_train), len(X_test))\n",
    "print(y_train.value_counts(), y_test.value_counts())"
   ]
  },
  {
   "cell_type": "code",
   "execution_count": 17,
   "metadata": {},
   "outputs": [
    {
     "data": {
      "text/plain": [
       "[(0, 164), (1, 35)]"
      ]
     },
     "execution_count": 17,
     "metadata": {},
     "output_type": "execute_result"
    }
   ],
   "source": [
    "sorted(Counter(y_train).items())"
   ]
  },
  {
   "cell_type": "code",
   "execution_count": 18,
   "metadata": {},
   "outputs": [
    {
     "name": "stdout",
     "output_type": "stream",
     "text": [
      "[(0, 164), (1, 164)]\n"
     ]
    }
   ],
   "source": [
    "from imblearn.over_sampling import RandomOverSampler\n",
    "ros = RandomOverSampler(random_state=0)\n",
    "X_resampled, y_resampled = ros.fit_resample(X_train, y_train)\n",
    "\n",
    "from collections import Counter\n",
    "print(sorted(Counter(y_resampled).items()))"
   ]
  },
  {
   "cell_type": "code",
   "execution_count": 19,
   "metadata": {},
   "outputs": [
    {
     "name": "stdout",
     "output_type": "stream",
     "text": [
      "The size of our training \"X\" (input features) is (328, 1199)\n",
      "\n",
      "\n",
      "The size of our testing \"X\" (input features) is (86, 1199)\n",
      "\n",
      "\n",
      "The size of our training \"y\" (output feature) is (328,)\n",
      "\n",
      "\n",
      "The size of our testing \"y\" (output features) is (86,)\n",
      "              precision    recall  f1-score   support\n",
      "\n",
      "           0       0.91      0.94      0.92        71\n",
      "           1       0.67      0.53      0.59        15\n",
      "\n",
      "    accuracy                           0.87        86\n",
      "   macro avg       0.79      0.74      0.76        86\n",
      "weighted avg       0.86      0.87      0.87        86\n",
      "\n"
     ]
    },
    {
     "data": {
      "text/plain": [
       "0.872093023255814"
      ]
     },
     "execution_count": 19,
     "metadata": {},
     "output_type": "execute_result"
    },
    {
     "data": {
      "image/png": "[encoded data removed]",
      "text/plain": [
       "<Figure size 432x288 with 2 Axes>"
      ]
     },
     "metadata": {
      "needs_background": "light"
     },
     "output_type": "display_data"
    }
   ],
   "source": [
    "import pandas as pd\n",
    "import numpy as np\n",
    "import matplotlib.pyplot as plt\n",
    "import seaborn as sns\n",
    "\n",
    "%matplotlib inline\n",
    "\n",
    "from sklearn.preprocessing import StandardScaler\n",
    "sc = StandardScaler()\n",
    "X_train = sc.fit_transform(X_resampled)\n",
    "X_test = sc.transform(X_test)\n",
    "\n",
    "print ('The size of our training \"X\" (input features) is', X_train.shape)\n",
    "print ('\\n')\n",
    "print ('The size of our testing \"X\" (input features) is', X_test.shape)\n",
    "print ('\\n')\n",
    "print ('The size of our training \"y\" (output feature) is', y_resampled.shape)\n",
    "print ('\\n')\n",
    "print ('The size of our testing \"y\" (output features) is', y_test.shape)\n",
    "\n",
    "from sklearn.svm import SVC\n",
    "\n",
    "svc_model = SVC(kernel = 'rbf', random_state = 20)\n",
    "\n",
    "svc_model.fit(X_train, y_resampled)\n",
    "\n",
    "y_predict = svc_model.predict(X_test)\n",
    "\n",
    "from sklearn.metrics import classification_report, confusion_matrix\n",
    "\n",
    "cm = np.array(confusion_matrix(y_test, y_predict, labels=[0,1]))\n",
    "confusion = pd.DataFrame(cm, index=['0', '1'],\n",
    "                         columns=['1','0'])\n",
    "\n",
    "sns.heatmap(confusion, annot=True)\n",
    "\n",
    "print(classification_report(y_test, y_predict))\n",
    "\n",
    "\n",
    "from sklearn.metrics import accuracy_score\n",
    "\n",
    "accuracy_score(y_test, y_predict)"
   ]
  },
  {
   "cell_type": "code",
   "execution_count": 20,
   "metadata": {},
   "outputs": [
    {
     "name": "stdout",
     "output_type": "stream",
     "text": [
      "Random Forest\n",
      "%%%%%%%%%%%%%%%%%%%%%%%%%%%%%%%%%%%%%%%%%%%%%%%%%%%%%%%\n",
      "%%%%%%%%%%%%%%%%%%%%%%%%%%%%%%%%%%%%%%%%%%%%%%%%%%%%%%%\n",
      "\n",
      "\n",
      "The size of our training \"X\" (input features) is (328, 1199)\n",
      "\n",
      "\n",
      "The size of our testing \"X\" (input features) is (86, 1199)\n",
      "\n",
      "\n",
      "The size of our training \"y\" (output feature) is (328,)\n",
      "\n",
      "\n",
      "The size of our testing \"y\" (output features) is (86,)\n",
      "Fitting 3 folds for each of 100 candidates, totalling 300 fits\n"
     ]
    },
    {
     "name": "stderr",
     "output_type": "stream",
     "text": [
      "[Parallel(n_jobs=-1)]: Using backend LokyBackend with 12 concurrent workers.\n",
      "[Parallel(n_jobs=-1)]: Done  17 tasks      | elapsed:    6.1s\n",
      "[Parallel(n_jobs=-1)]: Done 138 tasks      | elapsed:  1.2min\n",
      "[Parallel(n_jobs=-1)]: Done 300 out of 300 | elapsed:  2.2min finished\n"
     ]
    },
    {
     "name": "stdout",
     "output_type": "stream",
     "text": [
      "              precision    recall  f1-score   support\n",
      "\n",
      "           0       0.83      1.00      0.90        71\n",
      "           1       0.00      0.00      0.00        15\n",
      "\n",
      "    accuracy                           0.83        86\n",
      "   macro avg       0.41      0.50      0.45        86\n",
      "weighted avg       0.68      0.83      0.75        86\n",
      "\n",
      "Accuracy: 0.8255813953488372\n",
      "Precision: 0.0\n",
      "Recall: 0.0\n"
     ]
    },
    {
     "name": "stderr",
     "output_type": "stream",
     "text": [
      "/usr/local/lib/python3.7/site-packages/sklearn/metrics/_classification.py:1272: UndefinedMetricWarning: Precision and F-score are ill-defined and being set to 0.0 in labels with no predicted samples. Use `zero_division` parameter to control this behavior.\n",
      "  _warn_prf(average, modifier, msg_start, len(result))\n",
      "/usr/local/lib/python3.7/site-packages/sklearn/metrics/_classification.py:1272: UndefinedMetricWarning: Precision is ill-defined and being set to 0.0 due to no predicted samples. Use `zero_division` parameter to control this behavior.\n",
      "  _warn_prf(average, modifier, msg_start, len(result))\n"
     ]
    },
    {
     "data": {
      "image/png": "[encoded data removed]",
      "text/plain": [
       "<Figure size 432x288 with 2 Axes>"
      ]
     },
     "metadata": {
      "needs_background": "light"
     },
     "output_type": "display_data"
    }
   ],
   "source": [
    "import pandas as pd\n",
    "import numpy as np\n",
    "import matplotlib.pyplot as plt\n",
    "import seaborn as sns\n",
    "from sklearn import metrics\n",
    "\n",
    "from sklearn.model_selection import RandomizedSearchCV\n",
    "# Number of trees in random forest\n",
    "n_estimators = [int(x) for x in np.linspace(start = 200, stop = 2000, num = 10)]\n",
    "# Number of features to consider at every split\n",
    "max_features = ['auto', 'sqrt']\n",
    "# Maximum number of levels in tree\n",
    "max_depth = [int(x) for x in np.linspace(10, 110, num = 11)]\n",
    "max_depth.append(None)\n",
    "# Minimum number of samples required to split a node\n",
    "min_samples_split = [2, 5, 10]\n",
    "# Minimum number of samples required at each leaf node\n",
    "min_samples_leaf = [1, 2, 4]\n",
    "# Method of selecting samples for training each tree\n",
    "bootstrap = [True, False]\n",
    "# Create the random grid\n",
    "random_grid = {'n_estimators': n_estimators,\n",
    "               'max_features': max_features,\n",
    "               'max_depth': max_depth,\n",
    "               'min_samples_split': min_samples_split,\n",
    "               'min_samples_leaf': min_samples_leaf,\n",
    "               'bootstrap': bootstrap}\n",
    "\n",
    "%matplotlib inline\n",
    "\n",
    "X_train = X_resampled\n",
    "\n",
    "\n",
    "print(\"Random Forest\")\n",
    "print(\"%%%%%%%%%%%%%%%%%%%%%%%%%%%%%%%%%%%%%%%%%%%%%%%%%%%%%%%\")\n",
    "print(\"%%%%%%%%%%%%%%%%%%%%%%%%%%%%%%%%%%%%%%%%%%%%%%%%%%%%%%%\")\n",
    "print(\"\\n\")\n",
    "print ('The size of our training \"X\" (input features) is', X_train.shape)\n",
    "print ('\\n')\n",
    "print ('The size of our testing \"X\" (input features) is', X_test.shape)\n",
    "print ('\\n')\n",
    "print ('The size of our training \"y\" (output feature) is', y_resampled.shape)\n",
    "print ('\\n')\n",
    "print ('The size of our testing \"y\" (output features) is', y_test.shape)\n",
    "\n",
    "from sklearn.ensemble import RandomForestClassifier\n",
    "\n",
    "rf = RandomForestClassifier()\n",
    "# svc_model = RandomForestClassifier(n_estimators = 30, criterion = 'entropy', random_state = 20)\n",
    "svc_model = RandomizedSearchCV(estimator = rf, param_distributions = random_grid, n_iter = 100, cv = 3, verbose=2, random_state=0, n_jobs = -1)\n",
    "svc_model.fit(X_train, y_resampled)\n",
    "\n",
    "y_predict = svc_model.predict(X_test)\n",
    "\n",
    "from sklearn.metrics import classification_report, confusion_matrix\n",
    "\n",
    "cm = np.array(confusion_matrix(y_test, y_predict, labels=[0,1]))\n",
    "confusion = pd.DataFrame(cm, index=['0', '1'],\n",
    "                         columns=['1','0'])\n",
    "\n",
    "sns.heatmap(confusion, annot=True)\n",
    "\n",
    "print(classification_report(y_test, y_predict))\n",
    "\n",
    "\n",
    "from sklearn.metrics import accuracy_score\n",
    "\n",
    "print(\"Accuracy:\",metrics.accuracy_score(y_test, y_predict))\n",
    "\n",
    "# Model Precision: what percentage of positive tuples are labeled as such?\n",
    "print(\"Precision:\",metrics.precision_score(y_test, y_predict))\n",
    "\n",
    "# Model Recall: what percentage of positive tuples are labelled as such?\n",
    "print(\"Recall:\",metrics.recall_score(y_test, y_predict))"
   ]
  },
  {
   "cell_type": "code",
   "execution_count": null,
   "metadata": {},
   "outputs": [],
   "source": []
  },
  {
   "cell_type": "code",
   "execution_count": null,
   "metadata": {},
   "outputs": [],
   "source": []
  },
  {
   "cell_type": "code",
   "execution_count": 21,
   "metadata": {},
   "outputs": [
    {
     "name": "stdout",
     "output_type": "stream",
     "text": [
      "Gradient Boosting\n",
      "%%%%%%%%%%%%%%%%%%%%%%%%%%%%%%%%%%%%%%%%%%%%%%%%%%%%%%%\n",
      "%%%%%%%%%%%%%%%%%%%%%%%%%%%%%%%%%%%%%%%%%%%%%%%%%%%%%%%\n",
      "\n",
      "\n",
      "The size of our training \"X\" (input features) is (328, 1199)\n",
      "\n",
      "\n",
      "The size of our testing \"X\" (input features) is (86, 1199)\n",
      "\n",
      "\n",
      "The size of our training \"y\" (output feature) is (328,)\n",
      "\n",
      "\n",
      "The size of our testing \"y\" (output features) is (86,)\n",
      "              precision    recall  f1-score   support\n",
      "\n",
      "           0       0.83      1.00      0.90        71\n",
      "           1       0.00      0.00      0.00        15\n",
      "\n",
      "    accuracy                           0.83        86\n",
      "   macro avg       0.41      0.50      0.45        86\n",
      "weighted avg       0.68      0.83      0.75        86\n",
      "\n",
      "Accuracy: 0.8255813953488372\n",
      "Precision: 0.0\n",
      "Recall: 0.0\n"
     ]
    },
    {
     "name": "stderr",
     "output_type": "stream",
     "text": [
      "/usr/local/lib/python3.7/site-packages/sklearn/metrics/_classification.py:1272: UndefinedMetricWarning: Precision and F-score are ill-defined and being set to 0.0 in labels with no predicted samples. Use `zero_division` parameter to control this behavior.\n",
      "  _warn_prf(average, modifier, msg_start, len(result))\n",
      "/usr/local/lib/python3.7/site-packages/sklearn/metrics/_classification.py:1272: UndefinedMetricWarning: Precision is ill-defined and being set to 0.0 due to no predicted samples. Use `zero_division` parameter to control this behavior.\n",
      "  _warn_prf(average, modifier, msg_start, len(result))\n"
     ]
    },
    {
     "data": {
      "image/png": "[encoded data removed]",
      "text/plain": [
       "<Figure size 432x288 with 2 Axes>"
      ]
     },
     "metadata": {
      "needs_background": "light"
     },
     "output_type": "display_data"
    }
   ],
   "source": [
    "import pandas as pd\n",
    "import numpy as np\n",
    "import matplotlib.pyplot as plt\n",
    "import seaborn as sns\n",
    "from sklearn import ensemble\n",
    "from sklearn import metrics\n",
    "\n",
    "%matplotlib inline\n",
    "X_train = X_resampled\n",
    "\n",
    "print(\"Gradient Boosting\")\n",
    "print(\"%%%%%%%%%%%%%%%%%%%%%%%%%%%%%%%%%%%%%%%%%%%%%%%%%%%%%%%\")\n",
    "print(\"%%%%%%%%%%%%%%%%%%%%%%%%%%%%%%%%%%%%%%%%%%%%%%%%%%%%%%%\")\n",
    "print(\"\\n\")\n",
    "print ('The size of our training \"X\" (input features) is', X_train.shape)\n",
    "print ('\\n')\n",
    "print ('The size of our testing \"X\" (input features) is', X_test.shape)\n",
    "print ('\\n')\n",
    "print ('The size of our training \"y\" (output feature) is', y_resampled.shape)\n",
    "print ('\\n')\n",
    "print ('The size of our testing \"y\" (output features) is', y_test.shape)\n",
    "\n",
    "from sklearn.ensemble import GradientBoostingClassifier\n",
    "\n",
    "# svc_model = GradientBoostingClassifier()\n",
    "params = {'n_estimators': 1500, 'max_depth': 3, 'subsample': 0.2,\n",
    "          'learning_rate': 0.01, 'min_samples_leaf': 2, 'random_state': 0}\n",
    "svc_model = ensemble.GradientBoostingClassifier(**params)\n",
    "\n",
    "svc_model.fit(X_train, y_resampled)\n",
    "\n",
    "y_predict = svc_model.predict(X_test)\n",
    "\n",
    "from sklearn.metrics import classification_report, confusion_matrix\n",
    "\n",
    "cm = np.array(confusion_matrix(y_test, y_predict, labels=[0,1]))\n",
    "confusion = pd.DataFrame(cm, index=['0', '1'],\n",
    "                         columns=['1','0'])\n",
    "\n",
    "sns.heatmap(confusion, annot=True)\n",
    "\n",
    "print(classification_report(y_test, y_predict))\n",
    "\n",
    "\n",
    "from sklearn.metrics import accuracy_score\n",
    "\n",
    "print(\"Accuracy:\",metrics.accuracy_score(y_test, y_predict))\n",
    "\n",
    "# Model Precision: what percentage of positive tuples are labeled as such?\n",
    "print(\"Precision:\",metrics.precision_score(y_test, y_predict))\n",
    "\n",
    "# Model Recall: what percentage of positive tuples are labelled as such?\n",
    "print(\"Recall:\",metrics.recall_score(y_test, y_predict))"
   ]
  },
  {
   "cell_type": "code",
   "execution_count": null,
   "metadata": {},
   "outputs": [],
   "source": []
  }
 ],
 "metadata": {
  "kernelspec": {
   "display_name": "Python 3",
   "language": "python",
   "name": "python3"
  },
  "language_info": {
   "codemirror_mode": {
    "name": "ipython",
    "version": 3
   },
   "file_extension": ".py",
   "mimetype": "text/x-python",
   "name": "python",
   "nbconvert_exporter": "python",
   "pygments_lexer": "ipython3",
   "version": "3.7.6"
  }
 },
 "nbformat": 4,
 "nbformat_minor": 4
}
